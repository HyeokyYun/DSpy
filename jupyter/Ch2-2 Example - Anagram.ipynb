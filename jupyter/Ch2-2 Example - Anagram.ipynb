{
 "cells": [
  {
   "cell_type": "markdown",
   "id": "surrounded-wesley",
   "metadata": {},
   "source": [
    "One thing I do know, I was blind but now I see. (John 9:25b)\n",
    "\n",
    "-------\n",
    "<img src=\"https://github.com/idebtor/DSpy/blob/6b3676c3de29f85d2e7f30679676d1fd96d88b17/images/WelcomeToDataStructures.jpg?raw=true\" width=1000>\n",
    "\n",
    "__NOTE:__ The following materials have been compiled and adapted from the numerous sources including my own. Please help me to keep this tutorial up-to-date by reporting any issues or questions. Send any comments or criticisms to `idebtor@gmail.com` Your assistances and comments will be appreciated.\n",
    "\n",
    "--------"
   ]
  },
  {
   "cell_type": "markdown",
   "id": "original-quick",
   "metadata": {},
   "source": [
    "\n",
    "<b style=\"font-size:30px\"> Chapter 2. Performance Analysis </b>\n",
    "\n",
    ": 알고리즘 분석과 Big-O Notation\n",
    "\n",
    "--------------\n",
    "제 2장에서는 알고리즘 분석이 중요한 이유를 배우고 이해합니다. 또한, __Big-O__표기법을 사용하여 파이썬 목록(`list`) 및 사전(`dict`)에 대한 일반적인 작업의 실행 시간을 분석해 봅니다. __Big-O__표기법이란 알고리즘의 효율성을 표기해주는 표기법입니다."
   ]
  },
  {
   "cell_type": "markdown",
   "id": "infrared-justice",
   "metadata": {},
   "source": [
    "# An Anagram Detection Example\n",
    "\n",
    "Solution 1: Checking Off  \n",
    "Solution 2: Sort and Compare  \n",
    "Solution 3: Brute Force  \n",
    "Solution 4: Count and Compare  \n"
   ]
  },
  {
   "cell_type": "markdown",
   "id": "patient-creativity",
   "metadata": {},
   "source": [
    "크기가 서로 다른 알고리즘을 살펴볼 수 있는 좋은 예로는 문자열의 전형적인 __애너그램 검출문제 (Anagram Detection Problem)__가 있습니다. __애너그램__이란 한 문자열을 구성하는 글자의 개수는 그대로 유지하면서 순서만 바꾼 단어를 의미합니다. 예를 들어, \"herat\"와 \"earth\", \"python\"과 \"typhon\" 문자열도 애너그램입니다. 이처럼 순서는 달라도 구성하는 알파벳 글자들의 개수가 동일하다면 애너그램이라고 할 수 있습니다. 이 문제를 해결하는 4가지 방법이 있습니다."
   ]
  },
  {
   "cell_type": "markdown",
   "id": "stupid-establishment",
   "metadata": {},
   "source": [
    "<b style=\"font-size:24px\"> Solution1: Checking Off (확인) </b>"
   ]
  },
  {
   "cell_type": "markdown",
   "id": "musical-stretch",
   "metadata": {},
   "source": [
    "애너그램 문제를 푸는 첫번째 방법으로는 문자열의 길이를 확인한 다음 첫 번째 문자열의 각 문자가 실제로 두 번째 문자열에서 발생하는지 `확인`할 것입니다. 이때, 두 번째 문자열의 요소들로 구성된 a_list에서, 발견한 문자를 하나씩 특별한 value를 `None`으로 대체합니다. 그리고 계산이 끝난 후, a_list의 모든 문자들이 `None`으로 채워져 있는지를 확인할 수 있습니다. 다음의 예제를 살펴보며 확인해봅시다."
   ]
  },
  {
   "cell_type": "code",
   "execution_count": 1,
   "id": "loved-comfort",
   "metadata": {},
   "outputs": [],
   "source": [
    "def anagram_solution_1(s1, s2):\n",
    "    still_ok = True\n",
    "    if len(s1) != len(s2):\n",
    "        still_ok = False\n",
    "\n",
    "    a_list = list(s2)\n",
    "    pos_1 = 0\n",
    "\n",
    "    while pos_1 < len(s1) and still_ok:\n",
    "        pos_2 = 0\n",
    "        found = False\n",
    "        while pos_2 < len(a_list) and not found:\n",
    "            if s1[pos_1] == a_list[pos_2]:\n",
    "                found = True\n",
    "            else:\n",
    "                pos_2 = pos_2 + 1\n",
    "\n",
    "        if found:\n",
    "            a_list[pos_2] = None   \n",
    "        else:\n",
    "            still_ok = False\n",
    "\n",
    "        pos_1 = pos_1 + 1\n",
    "\n",
    "    return still_ok"
   ]
  },
  {
   "cell_type": "code",
   "execution_count": 2,
   "id": "dress-portable",
   "metadata": {},
   "outputs": [
    {
     "name": "stdout",
     "output_type": "stream",
     "text": [
      "[None, None, None, None, None]\n",
      "True\n",
      "[None, None, None, None]\n",
      "True\n",
      "['d', 'c', 'd', None]\n",
      "False\n"
     ]
    }
   ],
   "source": [
    "print(anagram_solution_1(\"apple\", \"pleap\"))  # expected: True\n",
    "print(anagram_solution_1(\"abcd\", \"dcba\"))  # expected: True\n",
    "print(anagram_solution_1(\"abcd\", \"dcda\"))  # expected: False"
   ]
  },
  {
   "cell_type": "markdown",
   "id": "orange-eclipse",
   "metadata": {},
   "source": [
    "이 알고리즘을 분석하려면 s1의 각 문자마다 s2 문자열 목록에 있는 최대 n개의 문자들만큼 반복해야 한다는 점에 유의해야 합니다. s2 문자열 목록의 각 위치는 s1의 문자와 일치할 때까지 계속 반복됩니다. 이 반복 횟수는 최소 1회, 최대 n이 됩니다. 예를 들어 heart와 earth를 그림으로 표시하면 다음과 같습니다. "
   ]
  },
  {
   "cell_type": "markdown",
   "id": "stainless-witness",
   "metadata": {},
   "source": [
    "<img src=\"https://github.com/idebtor/DSpy/blob/main/images/chap2/chapter2-4.jpg?raw=true\" width=600>\n",
    "\n",
    "<center>그림 1. 애나그램의 문자열 방문의 횟수</center>"
   ]
  },
  {
   "cell_type": "markdown",
   "id": "tracked-number",
   "metadata": {},
   "source": [
    "s2이 문자열 목록의 방문 횟수는 1부터 n까지의 정수의 합이 됩니다. 수식으로 표현해보면 다음과 같습니다. \n",
    "\n",
    "<br/>\n",
    "<center>$$\\sum_{i=1}^{n} i = \\frac{(n)(n+1)}{2} = \\frac{1}{2}n^2 + \\frac{1}{2}n$$</center>\n",
    "\n",
    "Big-O 표기법을 사용하면, 이 알고리즘은 $O(n^2)$입니다."
   ]
  },
  {
   "cell_type": "markdown",
   "id": "demographic-arcade",
   "metadata": {},
   "source": [
    "<b style=\"font-size:24px\"> Solution 2: Sort and Compare </b>"
   ]
  },
  {
   "cell_type": "markdown",
   "id": "hundred-invitation",
   "metadata": {},
   "source": [
    "애너그램을 해결하는 두번째 방법은 Sort and Compare입니다. 이 알고리즘은 말 그대로 정렬을 이용하여 두 문자열을 비교하는 방법입니다. 두 문자열이 애너그램이라면 정렬 후에 같은 문자열을 반환하게 되는 애너그램의 성질을 이용한 것입니다."
   ]
  },
  {
   "cell_type": "code",
   "execution_count": 12,
   "id": "developed-waterproof",
   "metadata": {},
   "outputs": [],
   "source": [
    "# 전형적인 코드\n",
    "def anagram_solution_2(s1, s2):\n",
    "    a_list_1 = list(s1)\n",
    "    a_list_2 = list(s2)\n",
    "\n",
    "    a_list_1.sort()  #오름차순 정렬\n",
    "    a_list_2.sort()\n",
    "\n",
    "    pos = 0\n",
    "    matches = True\n",
    "\n",
    "    while pos < len(s1) and matches:\n",
    "        if a_list_1[pos] == a_list_2[pos]:\n",
    "            pos = pos + 1\n",
    "        else:\n",
    "            matches = False\n",
    "\n",
    "    return matches"
   ]
  },
  {
   "cell_type": "markdown",
   "id": "political-liberia",
   "metadata": {},
   "source": [
    "위의 코드를 파이썬의 장점을 살려서 다시 작성해보도록 하겠습니다."
   ]
  },
  {
   "cell_type": "code",
   "execution_count": 23,
   "id": "electric-pasta",
   "metadata": {},
   "outputs": [],
   "source": [
    "# Python의 장점을 살린 코드\n",
    "def anagram_solution_2(s1, s2):\n",
    "    a_list_1 = list(s1)\n",
    "    a_list_2 = list(s2)\n",
    "\n",
    "    a_list_1.sort()\n",
    "    a_list_2.sort()\n",
    "\n",
    "    return a_list_1 == a_list_2"
   ]
  },
  {
   "cell_type": "code",
   "execution_count": 24,
   "id": "exposed-advance",
   "metadata": {
    "scrolled": true
   },
   "outputs": [
    {
     "name": "stdout",
     "output_type": "stream",
     "text": [
      "True\n",
      "True\n",
      "False\n"
     ]
    }
   ],
   "source": [
    "print(anagram_solution_2(\"apple\", \"pleap\"))  # expected: True\n",
    "print(anagram_solution_2(\"abcd\", \"dcba\"))  # expected: True\n",
    "print(anagram_solution_2(\"abcd\", \"dcda\"))  # expected: False"
   ]
  },
  {
   "cell_type": "markdown",
   "id": "exceptional-physics",
   "metadata": {},
   "source": [
    "놀랍지 않습니까? 기존의 코드에서 마지막 5줄을 파이썬의 특징을 이용해서 단 한줄로 코딩하였습니다! 이것이 파이썬의 큰 매력입니다."
   ]
  },
  {
   "cell_type": "markdown",
   "id": "crucial-avenue",
   "metadata": {},
   "source": [
    "정렬 과정 후 다음 문자를 비교하는 간단한 반복이 있기 때문에 얼핏 이 알고리즘이 $O(n)$라고 생각할 수 있습니다. 그러나 파이썬 정렬 방법에 대한 호출에 자체 비용이 없는 것은 아닙니다. 파이썬에서 제공하는 `sort()`은 일반적으로 $O(n \\log(n))$이고, 정렬 과정이 이 알고리즘의 핵심이므로 이 알고리즘은 $O(n \\log (n))$을 따릅니다."
   ]
  },
  {
   "cell_type": "markdown",
   "id": "minus-panic",
   "metadata": {},
   "source": [
    "<b style=\"font-size:24px\"> Solution 3. Brute Force </b>"
   ]
  },
  {
   "cell_type": "markdown",
   "id": "helpful-thompson",
   "metadata": {},
   "source": [
    "Brute Force는 일반적으로 __모든 가능한 경우의 수__ 를 탐색하면서 조건에 충족한 결과이면 가져오는 방법입니다. 이 알고리즘의 가장 큰 장점은 예외없이 100%의 정답만을 출력한다는 것입니다. 그러나, 애너그램 검출문제를 푸는데에는 어려움이 존재합니다.\n",
    "\n",
    "s1에서 가능한 모든 문자열을 생성할 때 후보 문자열의 총 개수는   \n",
    "<center>$n(n-1)(n-2)...(3)(2)(1)$ </center>즉, $n!$ 입니다. 일부 문자열이 중복될 수 있지만 프로그램은 이를 미리 알 수 없으므로 여전히 다른 문자열을 생성합니다. 만약 s1의 길이가 20이라면 $20! = 2,432,902,008,190,190,000$개의 후보 문자열이 있을 수 있습니다.\n",
    "이를 다 계산하려면 상당히 많은 시간이 소요될 것입니다.\n",
    "\n",
    "따라서 `Brute Force`는 애너그램 문제를 풀기 위한 좋은 해결책은 아니라고 할 수 있습니다."
   ]
  },
  {
   "cell_type": "markdown",
   "id": "faced-privilege",
   "metadata": {},
   "source": [
    "Brute Force가 쓰이는 대표적인 예로는 __순차탐색__, __깊이 우선 탐색(DFS)__, __너비 우선 탐색(BFS)__이 있습니다."
   ]
  },
  {
   "cell_type": "markdown",
   "id": "portuguese-tourist",
   "metadata": {},
   "source": [
    "<b style=\"font-size:24px\"> Solution 4. Count and Compare </b>"
   ]
  },
  {
   "cell_type": "markdown",
   "id": "blond-palace",
   "metadata": {},
   "source": [
    "애너그램 문제를 풀기위한 마지막 알고리즘은 어떤 두개의 문자열이 있다면, 그 문자열이 구성하고 있는 __알파벳의 개수가 같다__ 는 성질을 이용합니다.  \n",
    "따라서 두 문자열이 애너그램인지 여부를 결정하기 위해, 우리는 먼저 각 문자가 발생하는 횟수를 셀 것입니다.  \n",
    "알파벳의 가능한 문자가 26개이므로 가능한 문자마다 하나씩 총 26개의 counter lists을 사용할 수 있습니다. 그리고 특정 문자를 볼 때마다 해당 위치에서 counter를 늘립니다. 결국, 두 개의 counter lists가 동일할 경우 두 문자열은 애너그램인 것입니다."
   ]
  },
  {
   "cell_type": "code",
   "execution_count": 25,
   "id": "excellent-driving",
   "metadata": {},
   "outputs": [],
   "source": [
    "def anagram_solution_4(s1, s2):\n",
    "    c1 = [0] * 26\n",
    "    c2 = [0] * 26\n",
    "\n",
    "    for i in range(len(s1)):\n",
    "        pos = ord(s1[i]) - ord(\"a\")\n",
    "        c1[pos] = c1[pos] + 1\n",
    "\n",
    "    for i in range(len(s2)):\n",
    "        pos = ord(s2[i]) - ord(\"a\")\n",
    "        c2[pos] = c2[pos] + 1\n",
    "\n",
    "    j = 0\n",
    "    still_ok = True\n",
    "    while j < 26 and still_ok:\n",
    "        if c1[j] == c2[j]:\n",
    "            j = j + 1\n",
    "        else:\n",
    "            still_ok = False\n",
    "\n",
    "    return still_ok"
   ]
  },
  {
   "cell_type": "code",
   "execution_count": 26,
   "id": "satisfied-miami",
   "metadata": {},
   "outputs": [
    {
     "name": "stdout",
     "output_type": "stream",
     "text": [
      "True\n",
      "True\n",
      "False\n"
     ]
    }
   ],
   "source": [
    "print(anagram_solution_4(\"apple\", \"pleap\"))  # expected: True\n",
    "print(anagram_solution_4(\"abcd\", \"dcba\"))  # expected: True\n",
    "print(anagram_solution_4(\"abcd\", \"dcda\"))  # expected: False"
   ]
  },
  {
   "cell_type": "markdown",
   "id": "vocational-humanity",
   "metadata": {},
   "source": [
    "이 알고리즘에는 여러 개의 반복문이 사용되었습니다. 하지만 걱정하지 마세요.  \n",
    "문자를 계산하는데 사용된 처음 두번의 반복문(for)는 모두 n번 반복되는 것을 기반으로 합니다. 두 카운트 목록을 비교하는 세 번째 반복문(while)은 문자열에 26개의 가능한 문자가 있기 때문에 항상 26개의 단계를 거칩니다. 이를 모두 더하면 $T(n)=2n+26$이 나옵니다. 즉, $O(n)$입니다.   \n",
    "드디어, 우리는 이 문제를 해결하기 위한 선형 시간 알고리즘을 발견했습니다!"
   ]
  },
  {
   "cell_type": "markdown",
   "id": "studied-regulation",
   "metadata": {},
   "source": [
    "하지만, 이 알고리즘은 두 개의 문자 수 목록을 유지하기 위해 __추가 저장소__ 를 사용해야만 실행할 수 있었습니다. __즉, 이 알고리즘은 시간(time)을 벌기 위해 대신 공간(space)을 희생했습니다.__\n",
    "\n",
    "이것은 흔한 일입니다. 이제 앞으로 여러분은 시간(time)과 공간(space) 사이의 절충안을 찾아 결정을 내려야 할 것입니다. 이 알고리즘의 경우 알파벳의 총 개수가 26개 밖에 되지 않기 때문에 추가 공간(space)의 양이 그리 크게 영향을 미치지 않습니다. 하지만, 만약 기본 알파벳이 수만 개의 문자를 가지고 있다면, 그때는 적절한 절충안을 찾아야 할 것입니다.\n",
    "\n",
    "이처럼 컴퓨터 공학자로서 알고리즘을 선택할 때, 특정한 문제가 주어진 컴퓨팅 리소스의 최선의 사용을 결정하는 것은 여러분의 몫입니다."
   ]
  },
  {
   "cell_type": "markdown",
   "id": "overhead-papua",
   "metadata": {},
   "source": [
    "# Summary (요약)"
   ]
  },
  {
   "cell_type": "markdown",
   "id": "marine-craps",
   "metadata": {},
   "source": [
    "지금까지 애너그램 검출 문제(Anagram Detection Problem)를 풀기위한 총 4가지의 알고리즘\n",
    "1. Checking Off\n",
    "1. Sort and Compare\n",
    "1. Brute Force\n",
    "1. Count and Compare  \n",
    "\n",
    "을 살펴보았습니다. 컴퓨터 공학자로서, 시간복잡도와 공간복잡도를 잘 확인하여 최적의 알고리즘을 찾아내는 것은 여러분의 몫입니다."
   ]
  },
  {
   "cell_type": "markdown",
   "id": "cloudy-laundry",
   "metadata": {},
   "source": [
    "# Discussion Questions"
   ]
  },
  {
   "cell_type": "markdown",
   "id": "strange-antibody",
   "metadata": {},
   "source": [
    "__Q: 다음의 코드에서 Big-O 시간은 어떻게 되나요?__"
   ]
  },
  {
   "cell_type": "markdown",
   "id": "first-tablet",
   "metadata": {},
   "source": [
    "```python\n",
    "i = n\n",
    "while i > 0:\n",
    "    k = 2 + 2\n",
    "    i = i // 2\n",
    "```"
   ]
  },
  {
   "cell_type": "markdown",
   "id": "julian-specification",
   "metadata": {},
   "source": [
    "__ANS: $O(logn)$__"
   ]
  },
  {
   "cell_type": "markdown",
   "id": "moved-evanescence",
   "metadata": {},
   "source": [
    "# Exercises "
   ]
  },
  {
   "cell_type": "markdown",
   "id": "flying-toilet",
   "metadata": {},
   "source": [
    "우리는 지금까지 애너그램 검출 문제를 다양한 알고리즘을 사용해서 살펴보았습니다. 이를 통해 적절한 알고리즘을 사용하여 문제를 푸는 것이 중요하다는 점을 배웠습니다. 다음의 과제를 통해 문제를 해결하기 위한 다양한 알고리즘을 찾아가는 과정을 경험해보길 바랍니다."
   ]
  },
  {
   "cell_type": "markdown",
   "id": "9a582753",
   "metadata": {},
   "source": [
    "## k번째 작은 숫자 찾기 \n",
    "\n",
    "0부터 9까지의 정수로 구성된 리스트에서 k번째 가장 작은 숫자를 찾는 함수를 작성합니다. 리스트에는 중복되는 숫자가 없다고 가정합니다. 본인 코드의 time-complexity를 적어주세요.\n",
    "\n",
    "```\n",
    "list_a = [3, 9, 2, 5, 4, 8, 7]\n",
    "list_b = [0, 3, 1, 6, 2, 8, 4, 9]\n",
    "```"
   ]
  },
  {
   "cell_type": "markdown",
   "id": "0b6857ac",
   "metadata": {},
   "source": [
    "__Sample run 1:__\n",
    "```python\n",
    "alist = list_a\n",
    "k = 2\n",
    "find_small_number(alist, k)\n",
    "```\n",
    "__Output:__\n",
    "```codes\n",
    "3\n",
    "```"
   ]
  },
  {
   "cell_type": "markdown",
   "id": "biblical-packing",
   "metadata": {},
   "source": [
    "__Sample run 2:__\n",
    "```python\n",
    "alist = list_b\n",
    "k = 8\n",
    "find_small_number(alist, k)\n",
    "```\n",
    "__Output:__\n",
    "```codes\n",
    "9\n",
    "```"
   ]
  },
  {
   "cell_type": "markdown",
   "id": "knowing-yugoslavia",
   "metadata": {},
   "source": [
    "<b style=\"font-size:20px\"> 방법1: linear search 알고리즘 </b>"
   ]
  },
  {
   "cell_type": "code",
   "execution_count": 4,
   "id": "auburn-officer",
   "metadata": {},
   "outputs": [],
   "source": [
    "# 기초적인 알고리즘 구현\n",
    "def find_small_number1(alist, k):\n",
    "    assert 0 < k <= len(alist)\n",
    "    result = 0\n",
    "    for i in range(k):\n",
    "        smallest = 10\n",
    "        for num in alist:\n",
    "            if num < smallest:\n",
    "                smallest = num\n",
    "        alist.remove(smallest)\n",
    "        result = smallest\n",
    "        print(alist)\n",
    "    return result\n",
    "\n",
    "# min 함수를 사용한 구현\n",
    "def find_small_number1(alist, k):\n",
    "    assert 0 < k <= len(alist)\n",
    "    for i in range(k-1):\n",
    "        alist.remove(min(alist))\n",
    "    return min(alist)"
   ]
  },
  {
   "cell_type": "code",
   "execution_count": 5,
   "id": "residential-tennis",
   "metadata": {},
   "outputs": [
    {
     "name": "stdout",
     "output_type": "stream",
     "text": [
      "output: [3, 10, 2, 5, 4, 8, 7]\n",
      "3\n",
      "output: [0, 3, 1, 6, 2, 8, 4, 9]\n",
      "9\n"
     ]
    }
   ],
   "source": [
    "#test code\n",
    "list_a = [3, 10, 2, 5, 4, 8, 7]\n",
    "list_b = [0, 3, 1, 6, 2, 8, 4, 9]\n",
    "print(\"{}: {}\".format(\"output\", list_a))\n",
    "print(find_small_number1(list_a, 2))\n",
    "print(\"{}: {}\".format(\"output\", list_b))\n",
    "print(find_small_number1(list_b, 8)) "
   ]
  },
  {
   "cell_type": "markdown",
   "id": "aboriginal-remainder",
   "metadata": {},
   "source": [
    "<b style=\"font-size:20px\">방법2: sort 알고리즘</b>"
   ]
  },
  {
   "cell_type": "code",
   "execution_count": 6,
   "id": "small-triangle",
   "metadata": {},
   "outputs": [],
   "source": [
    "#예시답안\n",
    "def find_small_number2(alist, k):\n",
    "    assert 0 < k <= len(alist)\n",
    "    list_sorted = list(set(alist))\n",
    "    print(\"{}: {}\".format(\"input\", alist))\n",
    "    print(\"{}: {}\".format(\"sorted\", list_sorted))\n",
    "    \n",
    "    if k <= len(list_sorted):\n",
    "        return list_sorted[k-1] \n",
    "    \n",
    "    return list_sorted[len(list_sorted)-1]"
   ]
  },
  {
   "cell_type": "code",
   "execution_count": 7,
   "id": "improving-capitol",
   "metadata": {},
   "outputs": [
    {
     "name": "stdout",
     "output_type": "stream",
     "text": [
      "input: [3, 10, 2, 5, 4, 8, 7]\n",
      "sorted: [2, 3, 4, 5, 7, 8, 10]\n",
      "3\n",
      "input: [0, 3, 1, 6, 2, 8, 4, 9]\n",
      "sorted: [0, 1, 2, 3, 4, 6, 8, 9]\n",
      "9\n"
     ]
    }
   ],
   "source": [
    "#test code\n",
    "list_a = [3, 10, 2, 5, 4, 8, 7]\n",
    "list_b = [0, 3, 1, 6, 2, 8, 4, 9]\n",
    "print(find_small_number2(list_a, 2))\n",
    "print(find_small_number2(list_b, 8))"
   ]
  },
  {
   "cell_type": "markdown",
   "id": "speaking-confidence",
   "metadata": {},
   "source": [
    "## isPalindrome() 시간복잡도 \n",
    "\n",
    "코딩을 배우면서 대부분 한 번씩은 경험해 본 Palindrome(회문) 문제를 파이썬으로 구현한 isPalindrome() 함수가 아래와 같이 주어졌습니다. 이 함수의 시간복잡도 $O(n)$를 계산하고, 또한 실험적으로 시간복잡도가 맞는지 체크해보십시오. "
   ]
  },
  {
   "cell_type": "code",
   "execution_count": 8,
   "id": "enormous-amazon",
   "metadata": {},
   "outputs": [
    {
     "name": "stdout",
     "output_type": "stream",
     "text": [
      "True\n"
     ]
    }
   ],
   "source": [
    "def isPalindrome(string):\n",
    "    left_pos = 0\n",
    "    right_pos = len(string) - 1\n",
    "    \n",
    "    while right_pos >= left_pos:\n",
    "        if not string[left_pos] == string[right_pos]:\n",
    "            return False\n",
    "        left_pos += 1\n",
    "        right_pos -= 1\n",
    "    return True\n",
    "print(isPalindrome('madam')) "
   ]
  },
  {
   "cell_type": "markdown",
   "id": "patent-relay",
   "metadata": {},
   "source": [
    "위의 회문 알고리즘은 Checking-Off 방식을 사용하였습니다. 파이썬의 slicing을 이용하면 아래와 같이 간단한 코딩으로 해결할 수 있습니다. 아래 알고리즘의 시간복잡도를 계산하고, 실험적으로 측정하여 비교하십시오. "
   ]
  },
  {
   "cell_type": "code",
   "execution_count": 9,
   "id": "distinguished-spencer",
   "metadata": {},
   "outputs": [
    {
     "data": {
      "text/plain": [
       "True"
      ]
     },
     "execution_count": 9,
     "metadata": {},
     "output_type": "execute_result"
    }
   ],
   "source": [
    "# O(n)\n",
    "def solution_reverse(string):\n",
    "    return string == string[::-1]\n",
    "solution_reverse('madam')"
   ]
  },
  {
   "cell_type": "markdown",
   "id": "medium-butterfly",
   "metadata": {},
   "source": [
    "## 두 원소의 합이 집합 `a_set`에 있는지 확인 코드의 시간 복잡도 예측하기\n",
    "    \n",
    "겹치는 수가 없는 정수의 집합 `a_set`과 정수 `x`가 주어졌을 때, `a_set`에 있는 두 원소의 합이 x가 되는 경우가 있다면 어느 조합이 가능한지를 찾아 튜플의 리스트로 반환하는 코드 두 세트가 아래와 같이 주어졌습니다. \n",
    "\n",
    "두 알고리즘의 시간복잡도는 각각 $O(n^2)$과 $O(nlogn)$ 인 것으로 추정할 수 있습니다. 이러한 추정이 옳은 것인지 아닌지 실험적으로 증명하십시오. 코드의 실행시간을 측정하여 그래프로 보여주는 방법도 가능할 것입니다. "
   ]
  },
  {
   "cell_type": "markdown",
   "id": "crucial-trading",
   "metadata": {},
   "source": [
    "__sample run:__\n",
    "```python\n",
    "a_set = [5, 9, 1, 7, 6, 8, 0, 4, 3, 2]\n",
    "x = 9\n",
    "pairs = check_sum1(a_set, x)\n",
    "print(pairs)\n",
    "\n",
    "```\n",
    "__output:__\n",
    "```\n",
    "[(1, 8), (3, 6), (9, 0), (2, 7), (5, 4)]\n",
    "```"
   ]
  },
  {
   "cell_type": "code",
   "execution_count": 10,
   "id": "retained-astronomy",
   "metadata": {},
   "outputs": [],
   "source": [
    "def check_sum1(s, x):\n",
    "    pairs = []\n",
    "    for i in range(len(s)):\n",
    "        for j in range(i+1, len(s)):\n",
    "                if s[i] + s[j] == x:\n",
    "                    pairs.append((s[i], s[j]))\n",
    "    return pairs    "
   ]
  },
  {
   "cell_type": "code",
   "execution_count": 13,
   "id": "hindu-delight",
   "metadata": {},
   "outputs": [],
   "source": [
    "import random\n",
    "## test code\n",
    "n = 10000\n",
    "alist = random.sample(range(0, n), n)             # n is exclusive\n",
    "pairs = check_sum1(alist, random.randint(0, n))   # n is inclusive\n",
    "#print(pairs)"
   ]
  },
  {
   "cell_type": "markdown",
   "id": "sticky-lotus",
   "metadata": {},
   "source": [
    "__hint: sort()__"
   ]
  },
  {
   "cell_type": "code",
   "execution_count": 14,
   "id": "pressed-adaptation",
   "metadata": {},
   "outputs": [],
   "source": [
    "def check_sum2(s, x):\n",
    "    pairs = []\n",
    "    \n",
    "    s.sort()                      #정렬 수행\n",
    "    i, j = 0, len(s)-1            #리스트의 처음과 끝으로 포인터 설정 \n",
    "    while i < j:                  #두 포인터가 만날때까지 계속 반복\n",
    "        res = s[i] + s[j]\n",
    "        if res == x:\n",
    "            pairs.append((s[i], s[j]))\n",
    "            j -= 1\n",
    "            i += 1\n",
    "        elif res > x:            #합보다 크면 끝의 포인터를 하나 줄임\n",
    "            j -= 1\n",
    "        else:                    #합보다 작으면 처음의 포인터를 하나 올림\n",
    "            i += 1\n",
    "    return pairs"
   ]
  },
  {
   "cell_type": "code",
   "execution_count": 18,
   "id": "coral-ferry",
   "metadata": {},
   "outputs": [
    {
     "name": "stdout",
     "output_type": "stream",
     "text": [
      "7.08 ms ± 45.8 µs per loop (mean ± std. dev. of 7 runs, 100 loops each)\n"
     ]
    }
   ],
   "source": [
    "%%timeit\n",
    "n = 10000\n",
    "a_set = random.sample(range(0, n), n)             # n is exclusive\n",
    "pairs = check_sum2(a_set, random.randint(0, n))   # n is inclusive, random.randint(0, n)\n",
    "#print(pairs)"
   ]
  },
  {
   "cell_type": "markdown",
   "id": "alpine-audit",
   "metadata": {},
   "source": [
    "# 참고자료\n",
    "- Problem Solving with Algorithms and Data Structures using Python, [Here](https://runestone.academy/runestone/books/published/pythonds3/Introduction/WhyStudyDataStructuresandAbstractDataTypes.html)\n"
   ]
  }
 ],
 "metadata": {
  "kernelspec": {
   "display_name": "Python 3",
   "language": "python",
   "name": "python3"
  },
  "language_info": {
   "codemirror_mode": {
    "name": "ipython",
    "version": 3
   },
   "file_extension": ".py",
   "mimetype": "text/x-python",
   "name": "python",
   "nbconvert_exporter": "python",
   "pygments_lexer": "ipython3",
   "version": "3.8.8"
  }
 },
 "nbformat": 4,
 "nbformat_minor": 5
}
