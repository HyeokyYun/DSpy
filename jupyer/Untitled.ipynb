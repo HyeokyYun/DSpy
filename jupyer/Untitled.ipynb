{
 "cells": [
  {
   "cell_type": "code",
   "execution_count": null,
   "id": "1d403938-06a1-47ac-84c2-cec8a0bef4f8",
   "metadata": {},
   "outputs": [],
   "source": [
    "x = [ x for x in range(20) if x % 2 == 1]\n",
    "print(x)"
   ]
  },
  {
   "cell_type": "code",
   "execution_count": null,
   "id": "696ba787-89b5-465c-9ce3-828cfed21ce6",
   "metadata": {},
   "outputs": [],
   "source": [
    "def c2f(c):\n",
    "    return c * 1.8 + 32"
   ]
  },
  {
   "cell_type": "code",
   "execution_count": null,
   "id": "d8cc64ca-ba9a-42be-83a5-7e126774e285",
   "metadata": {},
   "outputs": [],
   "source": [
    "c_degs = [ -10, 0, 10, 100 ]\n",
    "cfpair = [ (c, c2f(c)) for c in c_degs ]  \n"
   ]
  },
  {
   "cell_type": "code",
   "execution_count": null,
   "id": "43ae69d0-3f3e-41f3-841a-515e50da4605",
   "metadata": {},
   "outputs": [],
   "source": [
    "print(cfpair)"
   ]
  },
  {
   "cell_type": "code",
   "execution_count": null,
   "id": "85d208f9-aca1-4375-ad55-9ae0b8e8d9b9",
   "metadata": {},
   "outputs": [],
   "source": [
    "a = 'foo'\n",
    "b = 'foo'\n",
    "print(id(a))\n",
    "print(id(b))\n",
    "print(a is b)\n",
    "print(a == b)"
   ]
  },
  {
   "cell_type": "code",
   "execution_count": null,
   "id": "2df8bb46-9032-4aba-84a5-a293fdf663dc",
   "metadata": {},
   "outputs": [],
   "source": [
    "x = [1, 2, 3, 4]\n",
    "y = [1, 2, 3, 4]\n",
    "print(id(x))\n",
    "print(id(y))\n",
    "print(x == y)\n",
    "print(x is y)"
   ]
  },
  {
   "cell_type": "code",
   "execution_count": null,
   "id": "e21e2854-6907-465e-a6f6-63b2a9190b52",
   "metadata": {},
   "outputs": [],
   "source": [
    "rgb = ['red', 'green', 'blue']\n",
    "rgb[0] = 'RED'"
   ]
  },
  {
   "cell_type": "code",
   "execution_count": null,
   "id": "0aaa40ef-4940-4f59-90f5-0766d6159cff",
   "metadata": {},
   "outputs": [],
   "source": [
    "truth = 'Sola Gratia'\n",
    "print(id(truth))\n",
    "truth = 'Sola Fide'\n",
    "print(id(truth))"
   ]
  },
  {
   "cell_type": "code",
   "execution_count": null,
   "id": "f256ada4-7f0b-4d05-9154-130f093e86fc",
   "metadata": {},
   "outputs": [],
   "source": [
    "rgb = ('red', 'green', 'blue')\n",
    "rgb[0] = 'RED'"
   ]
  },
  {
   "cell_type": "code",
   "execution_count": null,
   "id": "538ea0ea-1b9d-48e2-ae86-6966a64feb13",
   "metadata": {},
   "outputs": [],
   "source": [
    "def divide(a, b):\n",
    "    try:\n",
    "        result = a / b\n",
    "        print (\"try-block\")\n",
    "    except:\n",
    "        result = 'Error in input data'\n",
    "        print (\"Error\")\n",
    "    return result"
   ]
  },
  {
   "cell_type": "code",
   "execution_count": null,
   "id": "985b5b93-e1b5-464a-92dd-9b98ff892d14",
   "metadata": {},
   "outputs": [],
   "source": [
    "x = divide(5, 5)\n",
    "print (\"Program can continue to run...\")\n",
    "print(x)"
   ]
  },
  {
   "cell_type": "code",
   "execution_count": 9,
   "id": "40e862ad-b5a1-44a3-931d-e9a09fa6d3e4",
   "metadata": {
    "tags": []
   },
   "outputs": [
    {
     "name": "stdout",
     "output_type": "stream",
     "text": [
      "Error in input data\n",
      "Error in input data\n",
      "1.0\n"
     ]
    }
   ],
   "source": [
    "def divide(dividend, divisor):\n",
    "    try:\n",
    "        quotient = dividend / divisor\n",
    "    except:\n",
    "        quotient = 'Error in input data'\n",
    "    return quotient\n",
    "\n",
    "\n",
    "x = divide(5, 0)\n",
    "print(x)\n",
    "x = divide('hello', 'world')\n",
    "print(x)\n",
    "x = divide(5, 5)\n",
    "print(x)"
   ]
  },
  {
   "cell_type": "code",
   "execution_count": null,
   "id": "c7623ec1-871a-4276-830c-b189d7abeb82",
   "metadata": {},
   "outputs": [],
   "source": [
    "5/5"
   ]
  },
  {
   "cell_type": "code",
   "execution_count": null,
   "id": "b0b16733-a434-496e-a57a-3da0f9b39907",
   "metadata": {},
   "outputs": [],
   "source": []
  }
 ],
 "metadata": {
  "kernelspec": {
   "display_name": "Python 3",
   "language": "python",
   "name": "python3"
  },
  "language_info": {
   "codemirror_mode": {
    "name": "ipython",
    "version": 3
   },
   "file_extension": ".py",
   "mimetype": "text/x-python",
   "name": "python",
   "nbconvert_exporter": "python",
   "pygments_lexer": "ipython3",
   "version": "3.8.10"
  }
 },
 "nbformat": 4,
 "nbformat_minor": 5
}
